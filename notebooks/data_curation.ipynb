{
 "cells": [
  {
   "cell_type": "code",
   "execution_count": 3,
   "metadata": {},
   "outputs": [
    {
     "name": "stdout",
     "output_type": "stream",
     "text": [
      "<class 'dict'>\n",
      "['2', '4', '5', '7', '8']\n",
      "<class 'dict'>\n",
      "First Key: 2\n",
      "First Value: {'model_id': '2', 'model_name': 'CblA-1', 'model_type': 'protein homolog model', 'model_type_id': '40292', 'model_description': 'Protein Homolog Models (PHM) detect protein sequences based on their similarity to a curated reference sequence, using curated BLASTP bitscore cut-offs. Protein Homolog Models apply to all genes that confer resistance through their presence in an organism, such as the presence of a beta-lactamase gene on a plasmid. PHMs include a reference sequence and a bitscore cut-off for detection using BLASTP. A Perfect RGI match is 100% identical to the reference protein sequence along its entire length, a Strict RGI match is not identical but the bit-score of the matched sequence is greater than the curated BLASTP bit-score cutoff, Loose RGI matches have a bit-score less than the curated BLASTP bit-score cut-off.', 'model_param': {'blastp_bit_score': {'param_type': 'BLASTP bit-score', 'param_description': 'The BLASTP bit-score is a numerical value that describes the overall quality of an alignment. Higher numbers correspond to higher similarity. The bit-score (S) is determined by the following formula: S = (λ × S − lnK)/ ln2 where λ is the Gumble distribution constant, S is the raw alignment score, and K is a constant associated with the scoring matrix. This parameter is used by AMR detection models that use a protein reference sequence, e.g. the protein homolog model. The BLASTP bit-score parameter is a curated value determined from BLASTP analysis of the canonical reference sequence of a specific AMR-associated protein against the database of CARD reference sequence. This value establishes a threshold for computational prediction of RGI Strict match (above bit-score cut-off) or Loose match (below bit-score cut-off).', 'param_type_id': '40725', 'param_value': '575'}}, 'model_sequences': {'sequence': {'1188': {'protein_sequence': {'accession': 'ACT97415.1', 'sequence': 'MKAYFIAILTLFTCIATVVRAQQMSELENRIDSLLNGKKATVGIAVWTDKGDMLRYNDHVHFPLLSVFKFHVALAVLDKMDKQSISLDSIVSIKASQMPPNTYSPLRKKFPDQDFTITLRELMQYSISQSDNNACDILIEYAGGIKHINDYIHRLSIDSFNLSETEDGMHSSFEAVYRNWSTPSAMVRLLRTADEKELFSNKELKDFLWQTMIDTETGANKLKGMLPAKTVVGHKTGSSDRNADGMKTADNDAGLVILPDGRKYYIAAFVMDSYETDEDNANIIARISRMVYDAMR'}, 'dna_sequence': {'accession': 'GQ343019.1', 'fmin': '132', 'fmax': '1023', 'strand': '+', 'sequence': 'ATGAAAGCATATTTCATCGCCATACTTACCTTATTCACTTGTATAGCTACCGTCGTCCGGGCGCAGCAAATGTCTGAACTTGAAAACCGGATTGACAGTCTGCTCAATGGCAAGAAAGCCACCGTTGGTATAGCCGTATGGACAGACAAAGGAGACATGCTCCGGTATAACGACCATGTACACTTCCCCTTGCTCAGTGTATTCAAATTCCATGTGGCACTGGCCGTACTGGACAAGATGGATAAGCAAAGCATCAGTCTGGACAGCATTGTTTCCATAAAGGCATCCCAAATGCCGCCCAATACCTACAGCCCCCTGCGGAAGAAGTTTCCCGACCAGGATTTCACGATTACGCTTAGGGAACTGATGCAATACAGCATTTCCCAAAGCGACAACAATGCCTGCGACATCTTGATAGAATATGCAGGAGGCATCAAACATATCAACGACTATATCCACCGGTTGAGTATCGACTCCTTCAACCTCTCGGAAACAGAAGACGGCATGCACTCCAGCTTCGAGGCTGTATACCGCAACTGGAGTACTCCTTCCGCTATGGTCCGACTACTGAGAACGGCTGATGAAAAAGAGTTGTTCTCCAACAAGGAGCTGAAAGACTTCTTGTGGCAGACCATGATAGATACTGAAACCGGTGCCAACAAACTGAAAGGTATGTTGCCAGCCAAAACCGTGGTAGGACACAAGACCGGCTCTTCCGACCGCAATGCCGACGGTATGAAAACTGCAGATAATGATGCCGGCCTCGTTATCCTTCCCGACGGCCGGAAATACTACATTGCCGCCTTCGTCATGGACTCATACGAGACGGATGAGGACAATGCGAACATCATCGCCCGCATATCACGCATGGTATATGATGCGATGAGATGA', 'partial': '0'}, 'NCBI_taxonomy': {'NCBI_taxonomy_cvterm_id': '39659', 'NCBI_taxonomy_name': 'mixed culture bacterium AX_gF3SD01_15', 'NCBI_taxonomy_id': '663108'}}}}, 'ARO_accession': '3002999', 'ARO_id': '39433', 'ARO_name': 'CblA-1', 'CARD_short_name': 'CblA-1', 'ARO_description': 'CblA-1 beta-lactamase is a class A beta-lactamase found in Bacteroides uniformis that is species-specific.', 'ARO_category': {'39432': {'category_aro_accession': '3002998', 'category_aro_cvterm_id': '39432', 'category_aro_name': 'CblA beta-lactamase', 'category_aro_description': 'CblA beta-lactamases are class A beta-lactamases that confer resistance to cephalosporins.', 'category_aro_class_name': 'AMR Gene Family'}, '41256': {'category_aro_accession': '3004129', 'category_aro_cvterm_id': '41256', 'category_aro_name': 'cephaloridine', 'category_aro_description': 'Cephaloridine is a semisynthetic, broad-spectrum, first-generation cephalosporin with antibacterial activity. Cephaloridine binds to and inactivates penicillin-binding proteins (PBPs) located on the inner membrane of the bacterial cell wall. PBPs are enzymes involved in the terminal stages of assembling the bacterial cell wall and in reshaping the cell wall during growth and division. Inactivation of PBPs interferes with the cross-linkage of peptidoglycan chains necessary for bacterial cell wall strength and rigidity. This results in the weakening of the bacterial cell wall and causes cell lysis.', 'category_aro_class_name': 'Antibiotic'}, '35951': {'category_aro_accession': '0000032', 'category_aro_cvterm_id': '35951', 'category_aro_name': 'cephalosporin', 'category_aro_description': 'Cephalosporins are a class of beta-lactam antibiotics, containing the beta-lactam ring fused with a dihydrothiazolidine ring. Together with cephamycins they belong to a sub-group called cephems. Cephalosporin are bactericidal, and act by inhibiting the synthesis of the peptidoglycan layer of bacterial cell walls. The peptidoglycan layer is important for cell wall structural integrity, especially in Gram-positive organisms.', 'category_aro_class_name': 'Drug Class'}, '36000': {'category_aro_accession': '0001004', 'category_aro_cvterm_id': '36000', 'category_aro_name': 'antibiotic inactivation', 'category_aro_description': 'Enzymatic inactivation of antibiotic to confer drug resistance.', 'category_aro_class_name': 'Resistance Mechanism'}}}\n"
     ]
    }
   ],
   "source": [
    "import json\n",
    "with open(\"/home/cvm-alamlab/Desktop/Aditya/AMR_Project/AMR-ML/data/external/card.json\") as f:\n",
    "    data = json.load(f)\n",
    "\n",
    "print(type(data))  # dict?\n",
    "print(list(data.keys())[:5])\n",
    "print(type(data[list(data.keys())[0]]))  # should be dict\n",
    "# print(data.items())\n",
    "\n",
    "first_key, first_value = next(iter(data.items()))\n",
    "print(\"First Key:\", first_key)\n",
    "print(\"First Value:\", first_value)\n"
   ]
  },
  {
   "cell_type": "code",
   "execution_count": null,
   "metadata": {},
   "outputs": [],
   "source": []
  }
 ],
 "metadata": {
  "kernelspec": {
   "display_name": ".venv",
   "language": "python",
   "name": "python3"
  },
  "language_info": {
   "codemirror_mode": {
    "name": "ipython",
    "version": 3
   },
   "file_extension": ".py",
   "mimetype": "text/x-python",
   "name": "python",
   "nbconvert_exporter": "python",
   "pygments_lexer": "ipython3",
   "version": "3.12.3"
  }
 },
 "nbformat": 4,
 "nbformat_minor": 2
}
